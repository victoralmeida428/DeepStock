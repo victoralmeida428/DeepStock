{
 "cells": [
  {
   "cell_type": "code",
   "execution_count": 16,
   "metadata": {},
   "outputs": [],
   "source": [
    "path = '/home/victor/Downloads/acoes-listadas.csv'\n",
    "import pandas as pd\n",
    "df = pd.read_csv(path)\n",
    "df['Código'] = df['Código']+'.SA'\n",
    "json = []\n",
    "for _, codigo in df.itertuples():\n",
    "    json.append({'value': codigo, 'label':codigo})"
   ]
  },
  {
   "cell_type": "code",
   "execution_count": 20,
   "metadata": {},
   "outputs": [],
   "source": [
    "import yfinance as yf"
   ]
  },
  {
   "cell_type": "code",
   "execution_count": 22,
   "metadata": {},
   "outputs": [],
   "source": [
    "df = yf.Ticker('PETR4.SA')"
   ]
  },
  {
   "cell_type": "code",
   "execution_count": 36,
   "metadata": {},
   "outputs": [
    {
     "name": "stdout",
     "output_type": "stream",
     "text": [
      "31\n",
      "124\n",
      "'industry', -> Oil & Gas Integrated\n",
      "'sector', -> Energy\n",
      "'fullTimeEmployees', -> 45149\n",
      "'auditRisk', -> 2\n",
      "'boardRisk', -> 5\n",
      "'compensationRisk', -> 1\n",
      "'shareHolderRightsRisk', -> 10\n",
      "'overallRisk', -> 4\n",
      "'governanceEpochDate', -> 1696118400\n",
      "'priceHint', -> 2\n",
      "'regularMarketPreviousClose', -> 35.21\n",
      "'regularMarketOpen', -> 35.14\n",
      "'regularMarketDayLow', -> 34.49\n",
      "'regularMarketDayHigh', -> 35.25\n",
      "'dividendRate', -> 7.54\n",
      "'dividendYield', -> 0.2141\n",
      "'exDividendDate', -> 1692662400\n",
      "'fiveYearAvgDividendYield', -> 15.86\n",
      "'beta', -> 1.096971\n",
      "'trailingPE', -> 2.9291077\n",
      "'forwardPE', -> 4.525773\n",
      "'regularMarketVolume', -> 41578500\n",
      "'averageVolume', -> 49938260\n",
      "'averageVolume10days', -> 48314740\n",
      "'averageDailyVolume10Day', -> 48314740\n",
      "'bid', -> 35.03\n",
      "'ask', -> 35.09\n",
      "'bidSize', -> 0\n",
      "'askSize', -> 0\n",
      "'marketCap', -> 480898121728\n",
      "'fiftyTwoWeekLow', -> 20.77\n",
      "'fiftyTwoWeekHigh', -> 38.39\n",
      "'priceToSalesTrailing12Months', -> 0.8269063\n",
      "'fiftyDayAverage', -> 32.7394\n",
      "'twoHundredDayAverage', -> 28.13525\n",
      "'trailingAnnualDividendRate', -> 6.439\n",
      "'trailingAnnualDividendYield', -> 0.18287419\n",
      "'currency', -> BRL\n",
      "'enterpriseValue', -> 678100336640\n",
      "'profitMargins', -> 0.26889\n",
      "'floatShares', -> 8268066969\n",
      "'sharesOutstanding', -> 5601970176\n",
      "'heldPercentInsiders', -> 0.16073\n",
      "'heldPercentInstitutions', -> 0.35612\n",
      "'impliedSharesOutstanding', -> 13692999680\n",
      "'bookValue', -> 28.417\n",
      "'priceToBook', -> 1.2358799\n",
      "'lastFiscalYearEnd', -> 1672444800\n",
      "'nextFiscalYearEnd', -> 1703980800\n",
      "'mostRecentQuarter', -> 1688083200\n",
      "'earningsQuarterlyGrowth', -> -0.47\n",
      "'netIncomeToCommon', -> 156375007232\n",
      "'trailingEps', -> 11.99\n",
      "'forwardEps', -> 7.76\n",
      "'pegRatio', -> -0.61\n",
      "'lastSplitFactor', -> 2:1\n",
      "'lastSplitDate', -> 1209340800\n",
      "'enterpriseToRevenue', -> 1.166\n",
      "'enterpriseToEbitda', -> 2.33\n",
      "'52WeekChange', -> 0.03476727\n",
      "'SandP52WeekChange', -> 0.19265866\n",
      "'lastDividendValue', -> 1.149304\n",
      "'lastDividendDate', -> 1692662400\n",
      "'exchange', -> SAO\n",
      "'quoteType', -> EQUITY\n",
      "'longName', -> Petróleo Brasileiro S.A. - Petrobras\n",
      "'currentPrice', -> 35.12\n",
      "'targetHighPrice', -> 49.0\n",
      "'targetLowPrice', -> 26.0\n",
      "'targetMeanPrice', -> 37.6\n",
      "'targetMedianPrice', -> 36.7\n",
      "'recommendationMean', -> 2.6\n",
      "'recommendationKey', -> hold\n",
      "'numberOfAnalystOpinions', -> 11\n",
      "'totalCash', -> 60984999936\n",
      "'totalCashPerShare', -> 4.675\n",
      "'ebitda', -> 291086991360\n",
      "'totalDebt', -> 279374987264\n",
      "'quickRatio', -> 0.583\n",
      "'currentRatio', -> 0.902\n",
      "'totalRevenue', -> 581562990592\n",
      "'debtToEquity', -> 75.044\n",
      "'revenuePerShare', -> 44.584\n",
      "'returnOnAssets', -> 0.15427\n",
      "'returnOnEquity', -> 0.39988\n",
      "'grossProfits', -> 334100000000\n",
      "'freeCashflow', -> 187539374080\n",
      "'operatingCashflow', -> 232292007936\n",
      "'earningsGrowth', -> -0.47\n",
      "'revenueGrowth', -> -0.334\n",
      "'grossMargins', -> 0.50633\n",
      "'ebitdaMargins', -> 0.50053\n",
      "'operatingMargins', -> 0.42341\n"
     ]
    }
   ],
   "source": [
    "excludes = ['address1','address2','city','state','zip', 'country', 'phone','website', 'industryKey', 'industryDisp','sectorKey','sectorDisp', 'companyOfficers']\n",
    "excludes += ['previousClose','open','dayLow', 'dayHigh','maxAge','longBusinessSummary', 'volume', 'symbol']\n",
    "excludes += ['underlyingSymbol', 'shortName', 'timeZoneFullName', 'timeZoneShortName', 'uuid', 'messageBoardId']\n",
    "excludes += ['firstTradeDateEpochUtc','gmtOffSetMilliseconds', 'financialCurrency', 'trailingPegRatio']\n",
    "print(len(excludes))\n",
    "print(len(df.info.keys()))\n",
    "for keys, value in df.info.items():\n",
    "    if keys not in excludes:\n",
    "        print(f\"'{keys}',\", end=' -> ')\n",
    "        print(value)"
   ]
  }
 ],
 "metadata": {
  "kernelspec": {
   "display_name": "venv",
   "language": "python",
   "name": "python3"
  },
  "language_info": {
   "codemirror_mode": {
    "name": "ipython",
    "version": 3
   },
   "file_extension": ".py",
   "mimetype": "text/x-python",
   "name": "python",
   "nbconvert_exporter": "python",
   "pygments_lexer": "ipython3",
   "version": "3.10.12"
  }
 },
 "nbformat": 4,
 "nbformat_minor": 2
}
